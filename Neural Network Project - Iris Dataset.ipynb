{
  "nbformat": 4,
  "nbformat_minor": 0,
  "metadata": {
    "colab": {
      "name": "Copy of Neural Nets v2.ipynb",
      "provenance": [],
      "collapsed_sections": []
    },
    "kernelspec": {
      "name": "python3",
      "display_name": "Python 3"
    }
  },
  "cells": [
    {
      "cell_type": "markdown",
      "metadata": {
        "id": "ga8ZwCa9x96W",
        "colab_type": "text"
      },
      "source": [
        "# Week 8: Basic Neural Networks\n",
        "\n",
        "by Shivansh Rustagi, Santa Cruz Artificial Intelligence\n",
        "derived from [this blog post](https://github.com/SkalskiP/ILearnDeepLearning.py/blob/master/01_mysteries_of_neural_networks/03_numpy_neural_net/Numpy%20deep%20neural%20network.ipynb)\n",
        "\n",
        "Today, we're going to be creating and training a deep neural network. Once it is finished, we'll make some predictons."
      ]
    },
    {
      "cell_type": "markdown",
      "metadata": {
        "id": "zLALhqXXjkJg",
        "colab_type": "text"
      },
      "source": [
        "First: let's review the steps needed to create a Neural Network:\n",
        "\n",
        "\n",
        "\n",
        "1.   Prepare Data\n",
        "2.   Initialize Neural Network Layers\n",
        "3.   Activation functions (used to normalize outputs of neurons for next layer)\n",
        "4.   Forward Propagation (used for predictions)\n",
        "5.   Loss function (ensures we are moving in the right direction)\n",
        "6.   Backward Propagation (learning and training)\n",
        "7.   Updating parameters (optimize gradients)\n",
        "\n"
      ]
    },
    {
      "cell_type": "markdown",
      "metadata": {
        "id": "aZbamUKPkwL1",
        "colab_type": "text"
      },
      "source": [
        "# 1. Prepare Dataset:"
      ]
    },
    {
      "cell_type": "code",
      "metadata": {
        "id": "CkaiNN3bk1ft",
        "colab_type": "code",
        "colab": {}
      },
      "source": [
        "import numpy as np\n",
        "import random\n",
        "\n",
        "from sklearn.model_selection import train_test_split\n",
        "from sklearn.datasets import make_moons, load_iris\n",
        "\n",
        "# secure the bag\n",
        "iris = load_iris()\n",
        "\n",
        "# since our neural network only has an input dimension of two, instead of using\n",
        "# all four features in the dataset, we will only use petal length and width.\n",
        "# this is why we have d[:2] in the code below\n",
        "\n",
        "# furthermore, since our network uses the Binary Cross Entropy loss function\n",
        "# we can only use two classes.\n",
        "# iris flowers has 50 samples of each of the three classes, so I have simply\n",
        "# chopped off the 50 which belong to the last class\n",
        "# this is why the dataset is limited to the first 100 data using data[:100]\n",
        "X = [d[:2] for d in iris.data[:100]]\n",
        "y = iris.target[:100]\n",
        "\n",
        "# generate a bunch of random linearly separable data for training\n",
        "# this is good because you get as much annotated data as you want\n",
        "# but also it literally doesn't mean anything, it's just a toy set.\n",
        "# to use toy dataset, uncomment this line and change the number of  \n",
        "# epochs to 1000\n",
        "\n",
        "# X, y = make_moons(n_samples = 10000, noise=0.2, random_state=100)\n",
        "\n",
        "# generate our training and testing labels and data!\n",
        "X_train, X_test, y_train, y_test = train_test_split(X, y, test_size=0.1, random_state=42)\n"
      ],
      "execution_count": 0,
      "outputs": []
    },
    {
      "cell_type": "markdown",
      "metadata": {
        "id": "l8sGK5awk5bb",
        "colab_type": "text"
      },
      "source": [
        "# 2. Initialize Neural Network Layers"
      ]
    },
    {
      "cell_type": "code",
      "metadata": {
        "id": "z8E-W4dlk9OW",
        "colab_type": "code",
        "colab": {}
      },
      "source": [
        "# this creates the architecture for our neural network. notice how the \n",
        "# dimension of inputs for layer `n` is equal to the dimensions of the outputs of\n",
        "# layer `n-1`. the final layer has only one output, which is our prediction\n",
        "network_config = [\n",
        "  { 'input_dim': 2, 'output_dim': 25, 'activation': 'relu' },\n",
        "  { 'input_dim': 25, 'output_dim': 50, 'activation': 'relu' },\n",
        "  { 'input_dim': 50, 'output_dim': 50, 'activation': 'relu' },\n",
        "  { 'input_dim': 50, 'output_dim': 25, 'activation': 'relu' },\n",
        "  { 'input_dim': 25, 'output_dim': 1, 'activation': 'sigmoid' }\n",
        "]"
      ],
      "execution_count": 0,
      "outputs": []
    },
    {
      "cell_type": "code",
      "metadata": {
        "id": "fHj7ZTabmvSA",
        "colab_type": "code",
        "colab": {}
      },
      "source": [
        "def init_layers(config, seed=69):\n",
        "  np.random.seed(seed)\n",
        "  network_num_layers = len(config)\n",
        "  network_params = {}\n",
        "\n",
        "  # enumerate is a python function which takes a dictionary and returns a\n",
        "  # collated representation of the keys:\n",
        "  # eg: {'a': 23, 'b': 42} -> [(0, 'a'), (1, 'b')]\n",
        "  # this makes it easier to iterate over a dictionary, which otherwise does not\n",
        "  # have any order\n",
        "  for idx, layer in enumerate(config):\n",
        "    # number the layers, starting at 1\n",
        "    # YOUR CODE HERE\n",
        "    layer_id = idx + 1\n",
        "    layer_in = layer['input_dim']\n",
        "    layer_out = layer['output_dim']\n",
        "\n",
        "    # the np.random.randn function creates an array prepopulated with values\n",
        "    # sampled from a normal distribution (standard deviation 1, mean 0)\n",
        "    # the size of the array is determined by the arguments passed\n",
        "    \n",
        "    # the two lines of code below are creating randomly initialized weights\n",
        "    # and biases for each layer of our network.\n",
        "    network_params['W' + str(layer_id)] = np.random.randn(layer_out, layer_in) * 0.1\n",
        "    network_params['b' + str(layer_id)] = np.random.randn(layer_out, 1) * 0.1\n",
        "    \n",
        "  return network_params"
      ],
      "execution_count": 0,
      "outputs": []
    },
    {
      "cell_type": "markdown",
      "metadata": {
        "id": "vc2YUBcxmjMG",
        "colab_type": "text"
      },
      "source": [
        "# 3. Activation Functions"
      ]
    },
    {
      "cell_type": "code",
      "metadata": {
        "id": "Xhs8SdI1mpPd",
        "colab_type": "code",
        "colab": {}
      },
      "source": [
        "# sigmoid function: often used as the last activation function in a neural \n",
        "# network, becase it maps numbers to a value between 0 and 1 \n",
        "def sigmoid(Z):\n",
        "  return 1 / (1 + np.exp(-Z))\n",
        "\n",
        "# relu function: negative numbers are mapped to zero, otherwise the value remains the same\n",
        "def relu(Z):\n",
        "  # YOUR CODE HERE\n",
        "  return np.maximum(0, Z)\n",
        "\n",
        "# sigmoid derviative, which we will use during the backpropagation step\n",
        "def sigmoid_derivative(dA, Z):\n",
        "  return dA * sigmoid(Z) * (1 - sigmoid(Z))\n",
        "\n",
        "# relu derviative, which we will use during the backpropagation step\n",
        "def relu_derivative(dA, Z):\n",
        "  dZ = np.array(dA, copy=True)\n",
        "  dZ[Z <= 0] = 0\n",
        "  return dZ"
      ],
      "execution_count": 0,
      "outputs": []
    },
    {
      "cell_type": "markdown",
      "metadata": {
        "id": "5Q_CGrVxueo9",
        "colab_type": "text"
      },
      "source": [
        "# 4. Forward Propagation"
      ]
    },
    {
      "cell_type": "code",
      "metadata": {
        "id": "eEYVqXyswD1D",
        "colab_type": "code",
        "colab": {}
      },
      "source": [
        "# execute the forward propagation step for one layer\n",
        "# this is a helper function for the `full_forward_prop function`\n",
        "def single_layer_forward_prop(A_prev, W, b, activation='relu'):\n",
        "  # matrix multiply the weights with the old activation signal, and add bias\n",
        "  # YOUR CODE HERE\n",
        "  Z = np.dot(W, A_prev) + b\n",
        "  # take this new intermediate result and calculate its activation signal\n",
        "  A = relu(Z) if activation=='relu' else sigmoid(Z)\n",
        "  return A, Z\n",
        "\n",
        "# complete forward propagation step, used to run inferences\n",
        "def full_forward_prop(X, params, config):\n",
        "  # this is temporary \"memory\"/\"cache\" dictionary, which will store, among other\n",
        "  # things, the temporary activation signals and matrices we need to carry out\n",
        "  # backpropagation\n",
        "  # YOUR CODE HERE\n",
        "  temp = {}\n",
        "  # the activation signal for the first layer is simply the input\n",
        "  A = X\n",
        "\n",
        "  # iterate over the layers to carry out forward propagation\n",
        "  for idx, layer in enumerate(config):\n",
        "    layer_id = idx + 1\n",
        "    # get the activation signal from the previous layer\n",
        "    A_prev = A\n",
        "\n",
        "    # YOUR CODE HERE\n",
        "    # get activation function, weights, and bias for the current layer\n",
        "    activation = layer['activation']\n",
        "    W = params['W' + str(layer_id)]\n",
        "    b = params['b' + str(layer_id)]\n",
        "\n",
        "    # carry out forward propagation for one layer\n",
        "    # YOUR CODE HERE\n",
        "    A, Z = single_layer_forward_prop(A_prev, W, b, activation)\n",
        "\n",
        "    # store the activation signal and intermediate matrix in memory\n",
        "    temp['A' + str(idx)] = A_prev\n",
        "    temp['Z' + str(layer_id)] = Z\n",
        "\n",
        "  return A, temp\n"
      ],
      "execution_count": 0,
      "outputs": []
    },
    {
      "cell_type": "markdown",
      "metadata": {
        "id": "61akOhHP03Zz",
        "colab_type": "text"
      },
      "source": [
        "# 5. Loss Function"
      ]
    },
    {
      "cell_type": "code",
      "metadata": {
        "id": "PgN_ayF_0_2p",
        "colab_type": "code",
        "colab": {}
      },
      "source": [
        "# simply a python conversion of the Binary Cross Entropy Loss function\n",
        "# we are using this loss function because it is ideal for choosing between\n",
        "# two classes\n",
        "def cost_fn(y_hat, y):\n",
        "  # YOUR CODE HERE\n",
        "  m = y_hat.shape[1]\n",
        "  cost = -1 / m * (np.dot(y, np.log(y_hat).T) + np.dot(1 - y, np.log(1 - y_hat).T))\n",
        "  # the np.squeeze function gets rid of extra dimensions of an array\n",
        "  # eg: [[[[[1, 2, 3]], [[4, 5, 6]]]]] --> [[1, 2, 3], [4, 5, 6]]\n",
        "  return np.squeeze(cost)\n",
        "\n",
        "# a utility function which takes probabilities and changes them into classes\n",
        "def prob_to_class(p):\n",
        "  p_ = np.copy(p)\n",
        "  p_[p_ > 0.5] = 1\n",
        "  p_[p_ <= 0.5] = 0\n",
        "  return p_\n",
        "\n",
        "# calculate the accuracy\n",
        "def accuracy_fn(y_hat, y):\n",
        "    y_hat_ = prob_to_class(y_hat)\n",
        "    # (y_hat_ == y) returns a matrix of boolean values, comparing each entry\n",
        "    # in both matrices\n",
        "    # once this is done, .all returns the `logical and` across axis 0, and \n",
        "    # computes the mean to give us our value for accuracy\n",
        "    return (y_hat_ == y).all(axis = 0).mean()"
      ],
      "execution_count": 0,
      "outputs": []
    },
    {
      "cell_type": "markdown",
      "metadata": {
        "id": "JDv59c6S7-EL",
        "colab_type": "text"
      },
      "source": [
        "# 6. Backpropagation"
      ]
    },
    {
      "cell_type": "code",
      "metadata": {
        "id": "nMMfl-X48AJJ",
        "colab_type": "code",
        "colab": {}
      },
      "source": [
        "# backpropagation step for a single layer\n",
        "def single_layer_back_prop(dA, W, b, Z, A_prev, activation=\"relu\"):\n",
        "  # get number of data points\n",
        "  m = A_prev.shape[1]\n",
        "  \n",
        "  # math -> python\n",
        "  dZ = relu_derivative(dA, Z) if activation == 'relu' else sigmoid_derivative(dA, Z)\n",
        "  dW = np.dot(dZ, A_prev.T) / m\n",
        "  db = np.sum(dZ, axis=1, keepdims=True) / m\n",
        "  dA_prev = np.dot(W.T, dZ)\n",
        "\n",
        "  return dW, db, dA_prev\n",
        "\n",
        "def full_back_prop(y_hat, y, temp, params, config):\n",
        "  # YOUR CODE HERE\n",
        "  # dictionary we will use to calculate gradients\n",
        "  gradients = {}\n",
        "  m = y.shape[1]\n",
        "  # ensure prediction and truth value vectors have same shape\n",
        "  y = y.reshape(y_hat.shape)\n",
        "\n",
        "  # differential of loss with respect to prediction\n",
        "  dA_prev = -(np.divide(y, y_hat) - np.divide(1 - y, 1 - y_hat))\n",
        "\n",
        "  # as implied in the algorithm name, we want to work backward and use what we \n",
        "  # have learned to compute the derivatives of the cost function with respect to\n",
        "  # the weights \n",
        "  for idx, layer in reversed(list(enumerate(config))):\n",
        "    layer_id = idx + 1\n",
        "    activation = layer['activation']\n",
        "\n",
        "    dA = dA_prev\n",
        "\n",
        "    # recover the parameters for a given layer\n",
        "    # YOUR CODE HERE\n",
        "    A_prev = temp[\"A\" + str(idx)]\n",
        "    Z = temp[\"Z\" + str(layer_id)]\n",
        "    W = params[\"W\" + str(layer_id)]\n",
        "    b = params[\"b\" + str(layer_id)]\n",
        "\n",
        "    # carry out a single step of backpropagation on this layer\n",
        "    # YOUR CODE HERE\n",
        "    dW, db, dA_prev = single_layer_back_prop(dA, W, b, Z, A_prev, activation)\n",
        "\n",
        "    # add the gradients we have calculated to be used later\n",
        "    # YOUR CODE HERE\n",
        "    gradients[\"dW\" + str(layer_id)] = dW\n",
        "    gradients[\"db\" + str(layer_id)] = db\n",
        "  \n",
        "  return gradients\n",
        "\n"
      ],
      "execution_count": 0,
      "outputs": []
    },
    {
      "cell_type": "markdown",
      "metadata": {
        "id": "XAT5dAgvCjas",
        "colab_type": "text"
      },
      "source": [
        "# 7. Update Parameters"
      ]
    },
    {
      "cell_type": "code",
      "metadata": {
        "id": "l9iW2mzsCmRN",
        "colab_type": "code",
        "colab": {}
      },
      "source": [
        "# the actual learning part: using the gradients we have calculated to update the\n",
        "# weights and biases\n",
        "def update_params(params, config, gradients, learning_rate):\n",
        "  # this time, we want to start the enumeration at 1 because we are moving up\n",
        "  # the layers\n",
        "  for idx, layer in enumerate(config, 1):\n",
        "    # the learning rate is a hyperparameter which controls how fast or slowly\n",
        "    # the parameters are updated (as you can see below, it directly scales by\n",
        "    # how much the gradient is subtracted)\n",
        "    # a super low learning rate could lead to the network never \"converging\"\n",
        "    # and reaching an optimal solution, but a learning rate which is too high\n",
        "    # could lead to DIVERGENCE, which is also very bad\n",
        "    \n",
        "    # YOUR CODE HERE\n",
        "    params[\"W\" + str(idx)] -= learning_rate * gradients['dW' + str(idx)]\n",
        "    params[\"b\" + str(idx)] -= learning_rate * gradients['db' + str(idx)]\n",
        "\n",
        "  return params"
      ],
      "execution_count": 0,
      "outputs": []
    },
    {
      "cell_type": "markdown",
      "metadata": {
        "id": "AARF97JtDMUM",
        "colab_type": "text"
      },
      "source": [
        "# Finally... the training step!"
      ]
    },
    {
      "cell_type": "code",
      "metadata": {
        "id": "wmFvkXvrDOfj",
        "colab_type": "code",
        "colab": {}
      },
      "source": [
        "def train(X, y, config, epochs, learning_rate):\n",
        "  # create the network\n",
        "  params = init_layers(config)\n",
        "  # collect the cost and accuracy throughout training so that we can plot it if \n",
        "  # we want\n",
        "  cost_history = []\n",
        "  accuracy_history = []\n",
        "\n",
        "  # an epoch is a hyperparameter which siginifies the number of complete passes\n",
        "  # over the training dataset\n",
        "  for i in range(epochs):\n",
        "    # put together everything we wrote up there!\n",
        "    y_hat, mem = full_forward_prop(X, params, config)\n",
        "    \n",
        "    # store accuracy and cost for later\n",
        "    cost_history.append(cost_fn(y_hat, y))\n",
        "    accuracy_history.append(accuracy_fn(y_hat, y))\n",
        "\n",
        "    # YOUR CODE HERE\n",
        "    gradients = full_back_prop(y_hat, y, mem, params, config)\n",
        "    params = update_params(params, config, gradients, learning_rate)\n",
        "\n",
        "  # we return the parameters here: aka, the newly trained weights and biases\n",
        "  # for each layer of the network. We can use this set of optimized parameters\n",
        "  # to run inference on new data, which is done below!\n",
        "  return params, cost_history, accuracy_history \n"
      ],
      "execution_count": 0,
      "outputs": []
    },
    {
      "cell_type": "markdown",
      "metadata": {
        "id": "QI6j7y4QFG-Q",
        "colab_type": "text"
      },
      "source": [
        "# Testing"
      ]
    },
    {
      "cell_type": "code",
      "metadata": {
        "id": "1SYyGcRoJchv",
        "colab_type": "code",
        "colab": {}
      },
      "source": [
        "# train this bad boy!\n",
        "params, _, accuracy_history = train(np.transpose(X_train), np.transpose(y_train.reshape((y_train.shape[0], 1))), network_config, epochs=350, learning_rate=0.001)"
      ],
      "execution_count": 0,
      "outputs": []
    },
    {
      "cell_type": "code",
      "metadata": {
        "id": "uWpqT0Cl7mmV",
        "colab_type": "code",
        "outputId": "184233d6-e777-490b-926a-a5358b8be6fa",
        "colab": {
          "base_uri": "https://localhost:8080/",
          "height": 295
        }
      },
      "source": [
        "%matplotlib inline\n",
        "import matplotlib.pyplot as plt\n",
        "\n",
        "# quickly just plot accuracy over training\n",
        "plt.plot(accuracy_history)\n",
        "plt.ylabel('accuracy')\n",
        "plt.xlabel('epoch')\n",
        "plt.title('accuracy over training period')\n",
        "plt.show()"
      ],
      "execution_count": 11,
      "outputs": [
        {
          "output_type": "display_data",
          "data": {
            "image/png": "[encoded data removed]",
            "text/plain": [
              "<Figure size 432x288 with 1 Axes>"
            ]
          },
          "metadata": {
            "tags": []
          }
        }
      ]
    },
    {
      "cell_type": "code",
      "metadata": {
        "id": "PrAWJSKTTKhV",
        "colab_type": "code",
        "outputId": "d62bcf99-c943-469e-a007-c4213f7cf750",
        "colab": {
          "base_uri": "https://localhost:8080/",
          "height": 35
        }
      },
      "source": [
        "# run inferences on test data!\n",
        "# remember notation: y_hat is the predicted values, and we predict these values\n",
        "# by sending our test data through the network via the FORWARD PROPAGATION step.\n",
        "y_test_hat, _ = full_forward_prop(np.transpose(X_test), params, network_config)\n",
        "\n",
        "# calculate and print final test accuracy\n",
        "test_accuracy = accuracy_fn(y_test_hat, np.transpose(y_test.reshape((y_test.shape[0], 1))))\n",
        "print(\"Test set accuracy: {:.2f}\".format(test_accuracy))"
      ],
      "execution_count": 12,
      "outputs": [
        {
          "output_type": "stream",
          "text": [
            "Test set accuracy: 1.00\n"
          ],
          "name": "stdout"
        }
      ]
    }
  ]
}